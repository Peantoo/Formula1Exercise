{
  "nbformat": 4,
  "nbformat_minor": 0,
  "metadata": {
    "colab": {
      "provenance": [],
      "gpuType": "T4",
      "mount_file_id": "1znFaKy7mKxi3KSu_Sx7RHQHBQiFgKc15",
      "authorship_tag": "ABX9TyPhHdiJO0tE59uXE/RYHmGY"
    },
    "kernelspec": {
      "name": "python3",
      "display_name": "Python 3"
    },
    "language_info": {
      "name": "python"
    },
    "accelerator": "GPU"
  },
  "cells": [
    {
      "cell_type": "code",
      "source": [],
      "metadata": {
        "id": "hVlFRMumlCix"
      },
      "execution_count": null,
      "outputs": []
    },
    {
      "cell_type": "code",
      "execution_count": 1,
      "metadata": {
        "colab": {
          "base_uri": "https://localhost:8080/"
        },
        "id": "_JwVLzfJk_sb",
        "outputId": "0892c8e2-fd30-48f3-a6c0-46fb5c3b6313"
      },
      "outputs": [
        {
          "output_type": "stream",
          "name": "stderr",
          "text": [
            "INFO:distributed.http.proxy:To route to workers diagnostics web server please install jupyter-server-proxy: python -m pip install jupyter-server-proxy\n",
            "INFO:distributed.scheduler:State start\n",
            "INFO:distributed.scheduler:  Scheduler at:     tcp://127.0.0.1:42623\n",
            "INFO:distributed.scheduler:  dashboard at:  http://127.0.0.1:8787/status\n",
            "INFO:distributed.nanny:        Start Nanny at: 'tcp://127.0.0.1:43223'\n",
            "INFO:distributed.nanny:        Start Nanny at: 'tcp://127.0.0.1:40813'\n",
            "INFO:distributed.scheduler:Register worker <WorkerState 'tcp://127.0.0.1:36343', name: 0, status: init, memory: 0, processing: 0>\n",
            "INFO:distributed.scheduler:Starting worker compute stream, tcp://127.0.0.1:36343\n",
            "INFO:distributed.core:Starting established connection to tcp://127.0.0.1:34518\n",
            "INFO:distributed.scheduler:Register worker <WorkerState 'tcp://127.0.0.1:44295', name: 1, status: init, memory: 0, processing: 0>\n",
            "INFO:distributed.scheduler:Starting worker compute stream, tcp://127.0.0.1:44295\n",
            "INFO:distributed.core:Starting established connection to tcp://127.0.0.1:34526\n",
            "INFO:distributed.scheduler:Receive client connection: Client-0c56e105-1854-11ef-8391-0242ac1c000c\n",
            "INFO:distributed.core:Starting established connection to tcp://127.0.0.1:34536\n"
          ]
        }
      ],
      "source": [
        "import pandas as pd\n",
        "import dask.dataframe as dd\n",
        "from dask.distributed import Client\n",
        "import numpy as np\n",
        "import torch\n",
        "import torch.nn as nn\n",
        "import torch.optim as optim\n",
        "from sklearn.preprocessing import StandardScaler\n",
        "import matplotlib.pyplot as plt\n",
        "\n",
        "# Initialize a Dask client\n",
        "client = Client()\n",
        "\n",
        "# Function to read CSV files using Dask\n",
        "def read_csv_dask(file_path, dtypes):\n",
        "    return dd.read_csv(file_path, dtype=dtypes, na_values='\\\\N')\n",
        "\n",
        "# Define dtypes for each CSV file\n",
        "lap_times_dtypes = {\n",
        "    'raceId': 'int64',\n",
        "    'driverId': 'int64',\n",
        "    'lap': 'int64',\n",
        "    'position': 'int64',\n",
        "    'time': 'object',\n",
        "    'milliseconds': 'int64'\n",
        "}\n",
        "\n",
        "races_dtypes = {\n",
        "    'raceId': 'int64',\n",
        "    'year': 'int64',\n",
        "    'round': 'int64',\n",
        "    'circuitId': 'int64',\n",
        "    'name': 'object',\n",
        "    'date': 'object',\n",
        "    'time': 'object',\n",
        "    'url': 'object',\n",
        "    'fp1_date': 'object',\n",
        "    'fp1_time': 'object',\n",
        "    'fp2_date': 'object',\n",
        "    'fp2_time': 'object',\n",
        "    'fp3_date': 'object',\n",
        "    'fp3_time': 'object',\n",
        "    'quali_date': 'object',\n",
        "    'quali_time': 'object',\n",
        "    'sprint_date': 'object',\n",
        "    'sprint_time': 'object'\n",
        "}\n",
        "\n",
        "results_dtypes = {\n",
        "    'resultId': 'int64',\n",
        "    'raceId': 'int64',\n",
        "    'driverId': 'int64',\n",
        "    'constructorId': 'int64',\n",
        "    'number': 'float64',  # changed to float to handle NaNs\n",
        "    'grid': 'int64',\n",
        "    'position': 'float64',  # changed to float to handle NaNs\n",
        "    'positionText': 'object',\n",
        "    'positionOrder': 'int64',\n",
        "    'points': 'float64',\n",
        "    'laps': 'int64',\n",
        "    'time': 'object',\n",
        "    'milliseconds': 'float64',\n",
        "    'fastestLap': 'float64',  # changed to float to handle NaNs\n",
        "    'rank': 'float64',  # changed to float to handle NaNs\n",
        "    'fastestLapTime': 'object',\n",
        "    'fastestLapSpeed': 'float64',  # changed to float to handle NaNs\n",
        "    'statusId': 'int64'\n",
        "}\n",
        "\n",
        "pit_stops_dtypes = {\n",
        "    'raceId': 'int64',\n",
        "    'driverId': 'int64',\n",
        "    'stop': 'int64',\n",
        "    'lap': 'int64',\n",
        "    'time': 'object',\n",
        "    'duration': 'object',\n",
        "    'milliseconds': 'int64'\n",
        "}\n",
        "\n",
        "qualifying_dtypes = {\n",
        "    'qualifyId': 'int64',\n",
        "    'raceId': 'int64',\n",
        "    'driverId': 'int64',\n",
        "    'constructorId': 'int64',\n",
        "    'number': 'int64',\n",
        "    'position': 'float64',  # changed to float to handle NaNs\n",
        "    'q1': 'object',\n",
        "    'q2': 'object',\n",
        "    'q3': 'object'\n",
        "}\n",
        "\n",
        "# Read the CSV files using Dask\n",
        "lap_times = read_csv_dask('/content/drive/MyDrive/Colab Notebooks/lap_times.csv', lap_times_dtypes)\n",
        "races = read_csv_dask('/content/drive/MyDrive/Colab Notebooks/races.csv', races_dtypes)\n",
        "results = read_csv_dask('/content/drive/MyDrive/Colab Notebooks/results.csv', results_dtypes)\n",
        "pit_stops = read_csv_dask('/content/drive/MyDrive/Colab Notebooks/pit_stops.csv', pit_stops_dtypes)\n",
        "qualifying = read_csv_dask('/content/drive/MyDrive/Colab Notebooks/qualifying.csv', qualifying_dtypes)\n",
        "\n",
        "# Select necessary columns from races dataframe\n",
        "races = races[['raceId', 'year', 'name']]\n",
        "\n",
        "# Filter data for the selected seasons (2014-2023)\n",
        "races = races[(races['year'] >= 2014) & (races['year'] <= 2023)]\n",
        "\n",
        "# Get raceId from remaining races inb races to filter other datasets\n",
        "races_ids = races['raceId'].compute()\n",
        "\n",
        "# Filter datasets\n",
        "lap_times = lap_times[lap_times['raceId'].isin(races_ids)]\n",
        "results = results[results['raceId'].isin(races_ids)]\n",
        "pit_stops = pit_stops[pit_stops['raceId'].isin(races_ids)]\n",
        "qualifying = qualifying[qualifying['raceId'].isin(races_ids)]\n"
      ]
    },
    {
      "cell_type": "code",
      "source": [
        "# Print the number of unique raceIds remaining in each dataset\n",
        "print(\"Number of unique races in lap_times:\", lap_times['raceId'].nunique().compute())\n",
        "print(\"Number of unique races in results:\", results['raceId'].nunique().compute())\n",
        "print(\"Number of unique races in pit_stops:\", pit_stops['raceId'].nunique().compute())\n",
        "print(\"Number of unique races in qualifying:\", qualifying['raceId'].nunique().compute())\n",
        "print(\"Number of unique races in races:\", races['raceId'].nunique().compute())\n",
        "\n",
        "\n"
      ],
      "metadata": {
        "colab": {
          "base_uri": "https://localhost:8080/"
        },
        "id": "_I7lOwNRCLH0",
        "outputId": "f1db996c-2ac7-48a9-a77e-e84eeee4243f"
      },
      "execution_count": 2,
      "outputs": [
        {
          "output_type": "stream",
          "name": "stdout",
          "text": [
            "Number of unique races in lap_times: 194\n",
            "Number of unique races in results: 194\n",
            "Number of unique races in pit_stops: 193\n",
            "Number of unique races in qualifying: 194\n",
            "Number of unique races in races: 204\n"
          ]
        }
      ]
    },
    {
      "cell_type": "code",
      "source": [
        "# Compute unique raceIds in each dataset\n",
        "lap_times_ids = lap_times['raceId'].unique().compute()\n",
        "results_ids = results['raceId'].unique().compute()\n",
        "pit_stops_ids = pit_stops['raceId'].unique().compute()\n",
        "qualifying_ids = qualifying['raceId'].unique().compute()\n",
        "\n",
        "# Find the intersection of all raceIds\n",
        "common_race_ids = set(lap_times_ids) & set(results_ids) & set(pit_stops_ids) & set(qualifying_ids)\n",
        "\n",
        "# Filter each dataset to only include common raceIds\n",
        "lap_times = lap_times[lap_times['raceId'].isin(common_race_ids)]\n",
        "results = results[results['raceId'].isin(common_race_ids)]\n",
        "pit_stops = pit_stops[pit_stops['raceId'].isin(common_race_ids)]\n",
        "qualifying = qualifying[qualifying['raceId'].isin(common_race_ids)]\n",
        "races = races[races['raceId'].isin(common_race_ids)]"
      ],
      "metadata": {
        "id": "xU75fi60eyyt"
      },
      "execution_count": 3,
      "outputs": []
    },
    {
      "cell_type": "code",
      "source": [
        "# Print the number of unique raceIds remaining in each dataset\n",
        "print(\"Number of unique races in lap_times:\", lap_times['raceId'].nunique().compute())\n",
        "print(\"Number of unique races in results:\", results['raceId'].nunique().compute())\n",
        "print(\"Number of unique races in pit_stops:\", pit_stops['raceId'].nunique().compute())\n",
        "print(\"Number of unique races in qualifying:\", qualifying['raceId'].nunique().compute())\n",
        "print(\"Number of unique races in races:\", races['raceId'].nunique().compute())"
      ],
      "metadata": {
        "colab": {
          "base_uri": "https://localhost:8080/"
        },
        "id": "FaMIn-Vie-8e",
        "outputId": "22d04fb6-0f6f-409b-d496-6184780bd609"
      },
      "execution_count": 4,
      "outputs": [
        {
          "output_type": "stream",
          "name": "stdout",
          "text": [
            "Number of unique races in lap_times: 193\n",
            "Number of unique races in results: 193\n",
            "Number of unique races in pit_stops: 193\n",
            "Number of unique races in qualifying: 193\n",
            "Number of unique races in races: 193\n"
          ]
        }
      ]
    },
    {
      "cell_type": "code",
      "source": [
        "# Function to filter data for a specific race and driver\n",
        "def filter_race_driver_data(lap_times, race_id, driver_id):\n",
        "    df = lap_times[(lap_times['raceId'] == race_id) & (lap_times['driverId'] == driver_id)].compute()\n",
        "    df = df.reset_index(drop=True)\n",
        "    df.index = df.index + 1\n",
        "    return df"
      ],
      "metadata": {
        "id": "Z-jMZvIM7LsA"
      },
      "execution_count": 5,
      "outputs": []
    },
    {
      "cell_type": "code",
      "source": [
        "# Print a readable list of all the raceIds along with the name of the race\n",
        "races_info = races[['raceId', 'name']].compute()\n",
        "print(\"List of Race IDs and Race Names:\")\n",
        "for index, row in races_info.iterrows():\n",
        "    print(f\"Race ID: {row['raceId']}, Race Name: {row['name']}\")"
      ],
      "metadata": {
        "colab": {
          "base_uri": "https://localhost:8080/"
        },
        "id": "_LZ1x0fX7MTZ",
        "outputId": "cc3707c0-7abc-4719-c48c-b756f0ad76ff"
      },
      "execution_count": 6,
      "outputs": [
        {
          "output_type": "stream",
          "name": "stdout",
          "text": [
            "List of Race IDs and Race Names:\n",
            "Race ID: 900, Race Name: Australian Grand Prix\n",
            "Race ID: 901, Race Name: Malaysian Grand Prix\n",
            "Race ID: 902, Race Name: Bahrain Grand Prix\n",
            "Race ID: 903, Race Name: Chinese Grand Prix\n",
            "Race ID: 904, Race Name: Spanish Grand Prix\n",
            "Race ID: 905, Race Name: Monaco Grand Prix\n",
            "Race ID: 906, Race Name: Canadian Grand Prix\n",
            "Race ID: 907, Race Name: Austrian Grand Prix\n",
            "Race ID: 908, Race Name: British Grand Prix\n",
            "Race ID: 909, Race Name: German Grand Prix\n",
            "Race ID: 910, Race Name: Hungarian Grand Prix\n",
            "Race ID: 911, Race Name: Belgian Grand Prix\n",
            "Race ID: 912, Race Name: Italian Grand Prix\n",
            "Race ID: 913, Race Name: Singapore Grand Prix\n",
            "Race ID: 914, Race Name: Japanese Grand Prix\n",
            "Race ID: 915, Race Name: Russian Grand Prix\n",
            "Race ID: 916, Race Name: United States Grand Prix\n",
            "Race ID: 917, Race Name: Brazilian Grand Prix\n",
            "Race ID: 918, Race Name: Abu Dhabi Grand Prix\n",
            "Race ID: 931, Race Name: Monaco Grand Prix\n",
            "Race ID: 932, Race Name: Canadian Grand Prix\n",
            "Race ID: 929, Race Name: Bahrain Grand Prix\n",
            "Race ID: 930, Race Name: Spanish Grand Prix\n",
            "Race ID: 928, Race Name: Chinese Grand Prix\n",
            "Race ID: 926, Race Name: Australian Grand Prix\n",
            "Race ID: 927, Race Name: Malaysian Grand Prix\n",
            "Race ID: 933, Race Name: Austrian Grand Prix\n",
            "Race ID: 934, Race Name: British Grand Prix\n",
            "Race ID: 936, Race Name: Hungarian Grand Prix\n",
            "Race ID: 937, Race Name: Belgian Grand Prix\n",
            "Race ID: 938, Race Name: Italian Grand Prix\n",
            "Race ID: 939, Race Name: Singapore Grand Prix\n",
            "Race ID: 940, Race Name: Japanese Grand Prix\n",
            "Race ID: 941, Race Name: Russian Grand Prix\n",
            "Race ID: 942, Race Name: United States Grand Prix\n",
            "Race ID: 943, Race Name: Mexican Grand Prix\n",
            "Race ID: 944, Race Name: Brazilian Grand Prix\n",
            "Race ID: 945, Race Name: Abu Dhabi Grand Prix\n",
            "Race ID: 948, Race Name: Australian Grand Prix\n",
            "Race ID: 949, Race Name: Bahrain Grand Prix\n",
            "Race ID: 950, Race Name: Chinese Grand Prix\n",
            "Race ID: 951, Race Name: Russian Grand Prix\n",
            "Race ID: 952, Race Name: Spanish Grand Prix\n",
            "Race ID: 953, Race Name: Monaco Grand Prix\n",
            "Race ID: 954, Race Name: Canadian Grand Prix\n",
            "Race ID: 955, Race Name: European Grand Prix\n",
            "Race ID: 956, Race Name: Austrian Grand Prix\n",
            "Race ID: 957, Race Name: British Grand Prix\n",
            "Race ID: 958, Race Name: Hungarian Grand Prix\n",
            "Race ID: 959, Race Name: German Grand Prix\n",
            "Race ID: 960, Race Name: Belgian Grand Prix\n",
            "Race ID: 961, Race Name: Italian Grand Prix\n",
            "Race ID: 962, Race Name: Singapore Grand Prix\n",
            "Race ID: 963, Race Name: Malaysian Grand Prix\n",
            "Race ID: 964, Race Name: Japanese Grand Prix\n",
            "Race ID: 965, Race Name: United States Grand Prix\n",
            "Race ID: 966, Race Name: Mexican Grand Prix\n",
            "Race ID: 967, Race Name: Brazilian Grand Prix\n",
            "Race ID: 968, Race Name: Abu Dhabi Grand Prix\n",
            "Race ID: 969, Race Name: Australian Grand Prix\n",
            "Race ID: 970, Race Name: Chinese Grand Prix\n",
            "Race ID: 971, Race Name: Bahrain Grand Prix\n",
            "Race ID: 972, Race Name: Russian Grand Prix\n",
            "Race ID: 973, Race Name: Spanish Grand Prix\n",
            "Race ID: 974, Race Name: Monaco Grand Prix\n",
            "Race ID: 975, Race Name: Canadian Grand Prix\n",
            "Race ID: 976, Race Name: Azerbaijan Grand Prix\n",
            "Race ID: 977, Race Name: Austrian Grand Prix\n",
            "Race ID: 978, Race Name: British Grand Prix\n",
            "Race ID: 979, Race Name: Hungarian Grand Prix\n",
            "Race ID: 980, Race Name: Belgian Grand Prix\n",
            "Race ID: 981, Race Name: Italian Grand Prix\n",
            "Race ID: 982, Race Name: Singapore Grand Prix\n",
            "Race ID: 983, Race Name: Malaysian Grand Prix\n",
            "Race ID: 984, Race Name: Japanese Grand Prix\n",
            "Race ID: 985, Race Name: United States Grand Prix\n",
            "Race ID: 986, Race Name: Mexican Grand Prix\n",
            "Race ID: 987, Race Name: Brazilian Grand Prix\n",
            "Race ID: 988, Race Name: Abu Dhabi Grand Prix\n",
            "Race ID: 989, Race Name: Australian Grand Prix\n",
            "Race ID: 990, Race Name: Bahrain Grand Prix\n",
            "Race ID: 991, Race Name: Chinese Grand Prix\n",
            "Race ID: 992, Race Name: Azerbaijan Grand Prix\n",
            "Race ID: 993, Race Name: Spanish Grand Prix\n",
            "Race ID: 994, Race Name: Monaco Grand Prix\n",
            "Race ID: 995, Race Name: Canadian Grand Prix\n",
            "Race ID: 996, Race Name: French Grand Prix\n",
            "Race ID: 997, Race Name: Austrian Grand Prix\n",
            "Race ID: 998, Race Name: British Grand Prix\n",
            "Race ID: 999, Race Name: German Grand Prix\n",
            "Race ID: 1000, Race Name: Hungarian Grand Prix\n",
            "Race ID: 1001, Race Name: Belgian Grand Prix\n",
            "Race ID: 1002, Race Name: Italian Grand Prix\n",
            "Race ID: 1003, Race Name: Singapore Grand Prix\n",
            "Race ID: 1004, Race Name: Russian Grand Prix\n",
            "Race ID: 1005, Race Name: Japanese Grand Prix\n",
            "Race ID: 1006, Race Name: United States Grand Prix\n",
            "Race ID: 1007, Race Name: Mexican Grand Prix\n",
            "Race ID: 1008, Race Name: Brazilian Grand Prix\n",
            "Race ID: 1009, Race Name: Abu Dhabi Grand Prix\n",
            "Race ID: 1010, Race Name: Australian Grand Prix\n",
            "Race ID: 1011, Race Name: Bahrain Grand Prix\n",
            "Race ID: 1012, Race Name: Chinese Grand Prix\n",
            "Race ID: 1013, Race Name: Azerbaijan Grand Prix\n",
            "Race ID: 1014, Race Name: Spanish Grand Prix\n",
            "Race ID: 1015, Race Name: Monaco Grand Prix\n",
            "Race ID: 1016, Race Name: Canadian Grand Prix\n",
            "Race ID: 1017, Race Name: French Grand Prix\n",
            "Race ID: 1018, Race Name: Austrian Grand Prix\n",
            "Race ID: 1019, Race Name: British Grand Prix\n",
            "Race ID: 1020, Race Name: German Grand Prix\n",
            "Race ID: 1021, Race Name: Hungarian Grand Prix\n",
            "Race ID: 1022, Race Name: Belgian Grand Prix\n",
            "Race ID: 1023, Race Name: Italian Grand Prix\n",
            "Race ID: 1024, Race Name: Singapore Grand Prix\n",
            "Race ID: 1025, Race Name: Russian Grand Prix\n",
            "Race ID: 1026, Race Name: Japanese Grand Prix\n",
            "Race ID: 1027, Race Name: Mexican Grand Prix\n",
            "Race ID: 1028, Race Name: United States Grand Prix\n",
            "Race ID: 1029, Race Name: Brazilian Grand Prix\n",
            "Race ID: 1030, Race Name: Abu Dhabi Grand Prix\n",
            "Race ID: 1031, Race Name: Austrian Grand Prix\n",
            "Race ID: 1032, Race Name: Styrian Grand Prix\n",
            "Race ID: 1033, Race Name: Hungarian Grand Prix\n",
            "Race ID: 1034, Race Name: British Grand Prix\n",
            "Race ID: 1035, Race Name: 70th Anniversary Grand Prix\n",
            "Race ID: 1036, Race Name: Spanish Grand Prix\n",
            "Race ID: 1037, Race Name: Belgian Grand Prix\n",
            "Race ID: 1038, Race Name: Italian Grand Prix\n",
            "Race ID: 1039, Race Name: Tuscan Grand Prix\n",
            "Race ID: 1040, Race Name: Russian Grand Prix\n",
            "Race ID: 1041, Race Name: Eifel Grand Prix\n",
            "Race ID: 1042, Race Name: Portuguese Grand Prix\n",
            "Race ID: 1043, Race Name: Emilia Romagna Grand Prix\n",
            "Race ID: 1044, Race Name: Turkish Grand Prix\n",
            "Race ID: 1045, Race Name: Bahrain Grand Prix\n",
            "Race ID: 1046, Race Name: Sakhir Grand Prix\n",
            "Race ID: 1047, Race Name: Abu Dhabi Grand Prix\n",
            "Race ID: 1053, Race Name: Emilia Romagna Grand Prix\n",
            "Race ID: 1074, Race Name: Bahrain Grand Prix\n",
            "Race ID: 1052, Race Name: Bahrain Grand Prix\n",
            "Race ID: 1051, Race Name: Qatar Grand Prix\n",
            "Race ID: 1054, Race Name: Portuguese Grand Prix\n",
            "Race ID: 1055, Race Name: Spanish Grand Prix\n",
            "Race ID: 1056, Race Name: Monaco Grand Prix\n",
            "Race ID: 1057, Race Name: Azerbaijan Grand Prix\n",
            "Race ID: 1058, Race Name: Styrian Grand Prix\n",
            "Race ID: 1059, Race Name: French Grand Prix\n",
            "Race ID: 1060, Race Name: Austrian Grand Prix\n",
            "Race ID: 1061, Race Name: British Grand Prix\n",
            "Race ID: 1062, Race Name: Hungarian Grand Prix\n",
            "Race ID: 1064, Race Name: Dutch Grand Prix\n",
            "Race ID: 1065, Race Name: Italian Grand Prix\n",
            "Race ID: 1066, Race Name: Russian Grand Prix\n",
            "Race ID: 1067, Race Name: Turkish Grand Prix\n",
            "Race ID: 1069, Race Name: United States Grand Prix\n",
            "Race ID: 1070, Race Name: Mexico City Grand Prix\n",
            "Race ID: 1071, Race Name: São Paulo Grand Prix\n",
            "Race ID: 1072, Race Name: Saudi Arabian Grand Prix\n",
            "Race ID: 1073, Race Name: Abu Dhabi Grand Prix\n",
            "Race ID: 1075, Race Name: Saudi Arabian Grand Prix\n",
            "Race ID: 1076, Race Name: Australian Grand Prix\n",
            "Race ID: 1077, Race Name: Emilia Romagna Grand Prix\n",
            "Race ID: 1078, Race Name: Miami Grand Prix\n",
            "Race ID: 1079, Race Name: Spanish Grand Prix\n",
            "Race ID: 1080, Race Name: Monaco Grand Prix\n",
            "Race ID: 1081, Race Name: Azerbaijan Grand Prix\n",
            "Race ID: 1082, Race Name: Canadian Grand Prix\n",
            "Race ID: 1083, Race Name: British Grand Prix\n",
            "Race ID: 1084, Race Name: Austrian Grand Prix\n",
            "Race ID: 1085, Race Name: French Grand Prix\n",
            "Race ID: 1086, Race Name: Hungarian Grand Prix\n",
            "Race ID: 1087, Race Name: Belgian Grand Prix\n",
            "Race ID: 1088, Race Name: Dutch Grand Prix\n",
            "Race ID: 1089, Race Name: Italian Grand Prix\n",
            "Race ID: 1091, Race Name: Singapore Grand Prix\n",
            "Race ID: 1092, Race Name: Japanese Grand Prix\n",
            "Race ID: 1093, Race Name: United States Grand Prix\n",
            "Race ID: 1094, Race Name: Mexico City Grand Prix\n",
            "Race ID: 1095, Race Name: Brazilian Grand Prix\n",
            "Race ID: 1096, Race Name: Abu Dhabi Grand Prix\n",
            "Race ID: 1098, Race Name: Bahrain Grand Prix\n",
            "Race ID: 1099, Race Name: Saudi Arabian Grand Prix\n",
            "Race ID: 1100, Race Name: Australian Grand Prix\n",
            "Race ID: 1101, Race Name: Azerbaijan Grand Prix\n",
            "Race ID: 1102, Race Name: Miami Grand Prix\n",
            "Race ID: 1104, Race Name: Monaco Grand Prix\n",
            "Race ID: 1105, Race Name: Spanish Grand Prix\n",
            "Race ID: 1106, Race Name: Canadian Grand Prix\n",
            "Race ID: 1107, Race Name: Austrian Grand Prix\n",
            "Race ID: 1108, Race Name: British Grand Prix\n",
            "Race ID: 1109, Race Name: Hungarian Grand Prix\n",
            "Race ID: 1110, Race Name: Belgian Grand Prix\n"
          ]
        }
      ]
    },
    {
      "cell_type": "code",
      "source": [
        "# Function to print a list of all driverIds for a particular race\n",
        "def print_drivers_for_race(results, race_id):\n",
        "    drivers_for_race = results[results['raceId'] == race_id]['driverId'].unique().compute()\n",
        "    print(f\"List of Driver IDs for Race ID {race_id}:\")\n",
        "    for driver_id in drivers_for_race:\n",
        "        print(driver_id)\n",
        "\n",
        "# Example usage\n",
        "selected_race_id = int(input(\"Enter the raceId of the race you'd like to choose: \"))\n",
        "print_drivers_for_race(results, selected_race_id)"
      ],
      "metadata": {
        "colab": {
          "base_uri": "https://localhost:8080/"
        },
        "id": "PZezanNg8Ixt",
        "outputId": "0dc68425-3fa9-4ac9-dd98-5fcf408f9b1b"
      },
      "execution_count": 7,
      "outputs": [
        {
          "output_type": "stream",
          "name": "stdout",
          "text": [
            "Enter the raceId of the race you'd like to choose: 1044\n",
            "List of Driver IDs for Race ID 1044:\n",
            "1\n",
            "815\n",
            "20\n",
            "844\n",
            "832\n",
            "830\n",
            "848\n",
            "846\n",
            "840\n",
            "817\n",
            "839\n",
            "826\n",
            "842\n",
            "822\n",
            "8\n",
            "847\n",
            "825\n",
            "154\n",
            "849\n",
            "841\n"
          ]
        }
      ]
    },
    {
      "cell_type": "code",
      "source": [
        "# Function to adjust lap times for pit stops across all data\n",
        "def adjust_lap_times_for_pit_stops(lap_times, pit_stops):\n",
        "    lap_times_df = lap_times.compute()\n",
        "    pit_stops_df = pit_stops.compute()\n",
        "\n",
        "    # Merge lap times with pit stops to adjust laps with pit stops\n",
        "    merged_df = lap_times_df.merge(pit_stops_df[['raceId', 'driverId', 'lap', 'milliseconds']],\n",
        "                                   on=['raceId', 'driverId', 'lap'],\n",
        "                                   how='left',\n",
        "                                   suffixes=('', '_pit_stop'))\n",
        "\n",
        "    # Adjust lap times for laps with pit stops\n",
        "    merged_df['adjusted_milliseconds'] = merged_df['milliseconds'] - merged_df['milliseconds_pit_stop'].fillna(0)\n",
        "    merged_df = merged_df.drop(columns=['milliseconds', 'milliseconds_pit_stop']).rename(columns={'adjusted_milliseconds': 'milliseconds'})\n",
        "\n",
        "    return merged_df"
      ],
      "metadata": {
        "id": "TBuQj_WZ6loP"
      },
      "execution_count": 8,
      "outputs": []
    },
    {
      "cell_type": "code",
      "source": [
        "# Adjust lap times for pit stops\n",
        "adjusted_lap_times = adjust_lap_times_for_pit_stops(lap_times, pit_stops)"
      ],
      "metadata": {
        "id": "5ZniAtp16rhH"
      },
      "execution_count": 9,
      "outputs": []
    },
    {
      "cell_type": "code",
      "source": [
        "# Function to create lag features and rolling mean\n",
        "def create_lag_features(df, lag=5):\n",
        "    for i in range(1, lag + 1):\n",
        "        df[f'lag_{i}'] = df['milliseconds'].shift(i)\n",
        "    df['rolling_mean'] = df['milliseconds'].rolling(window=lag).mean()\n",
        "    df = df.dropna().reset_index(drop=True)\n",
        "    return df\n",
        "\n",
        "# Apply feature engineering to adjusted lap times\n",
        "adjusted_lap_times = create_lag_features(adjusted_lap_times)"
      ],
      "metadata": {
        "id": "RJlLDh2H68nQ"
      },
      "execution_count": 10,
      "outputs": []
    },
    {
      "cell_type": "code",
      "source": [
        "def prepare_data_for_lstm(df, n_steps=5):\n",
        "    X, y = [], []\n",
        "    numeric_cols = ['milliseconds', 'rolling_mean'] + [f'lag_{i}' for i in range(1, n_steps + 1)]\n",
        "    for i in range(len(df) - n_steps):\n",
        "        X.append(df.iloc[i:i + n_steps][numeric_cols].values)\n",
        "        y.append(df.iloc[i + n_steps]['milliseconds'])\n",
        "    return np.array(X), np.array(y)"
      ],
      "metadata": {
        "id": "4Cocs0bJ67mb"
      },
      "execution_count": 11,
      "outputs": []
    },
    {
      "cell_type": "code",
      "source": [
        "import seaborn as sns\n",
        "import matplotlib.pyplot as plt\n",
        "\n",
        "# Distribution of milliseconds\n",
        "plt.figure(figsize=(10, 6))\n",
        "sns.histplot(filtered_data['milliseconds'], bins=50, kde=True)\n",
        "plt.title('Distribution of Milliseconds')\n",
        "plt.show()\n",
        "\n",
        "# Distribution of lag features\n",
        "plt.figure(figsize=(10, 6))\n",
        "for i in range(1, 6):\n",
        "    sns.histplot(filtered_data[f'lag_{i}'], bins=50, kde=True, label=f'lag_{i}')\n",
        "plt.title('Distribution of Lag Features')\n",
        "plt.legend()\n",
        "plt.show()"
      ],
      "metadata": {
        "id": "rPvVBd13iI4V"
      },
      "execution_count": null,
      "outputs": []
    },
    {
      "cell_type": "code",
      "source": [
        "X, y = prepare_data_for_lstm(adjusted_lap_times)"
      ],
      "metadata": {
        "id": "DScgnC879p8E"
      },
      "execution_count": 12,
      "outputs": []
    },
    {
      "cell_type": "code",
      "source": [],
      "metadata": {
        "id": "b-xN8KiKiIO0"
      },
      "execution_count": null,
      "outputs": []
    },
    {
      "cell_type": "code",
      "source": [
        "# Check the shapes of X and y\n",
        "print(f\"Shape of X: {X.shape}\")\n",
        "print(f\"Shape of y: {y.shape}\")\n",
        "\n",
        "# Print a few samples from X and y\n",
        "print(\"Sample data from X:\")\n",
        "print(X[:3])  # Print the first 3 sequences\n",
        "\n",
        "print(\"Sample data from y:\")\n",
        "print(y[:3])  # Print the corresponding first 3 target values"
      ],
      "metadata": {
        "colab": {
          "base_uri": "https://localhost:8080/"
        },
        "id": "lyGRGt5391q3",
        "outputId": "f0f6a91a-a872-4609-f081-6cbd61f03ab4"
      },
      "execution_count": 13,
      "outputs": [
        {
          "output_type": "stream",
          "name": "stdout",
          "text": [
            "Shape of X: (210775, 5, 7)\n",
            "Shape of y: (210775,)\n",
            "Sample data from X:\n",
            "[[[ 94977.   95761.2  95438.   94939.   95765.   97687.  102038. ]\n",
            "  [ 95417.   95307.2  94977.   95438.   94939.   95765.   97687. ]\n",
            "  [ 94550.   95064.2  95417.   94977.   95438.   94939.   95765. ]\n",
            "  [ 94217.   94919.8  94550.   95417.   94977.   95438.   94939. ]\n",
            "  [ 94364.   94705.   94217.   94550.   95417.   94977.   95438. ]]\n",
            "\n",
            " [[ 95417.   95307.2  94977.   95438.   94939.   95765.   97687. ]\n",
            "  [ 94550.   95064.2  95417.   94977.   95438.   94939.   95765. ]\n",
            "  [ 94217.   94919.8  94550.   95417.   94977.   95438.   94939. ]\n",
            "  [ 94364.   94705.   94217.   94550.   95417.   94977.   95438. ]\n",
            "  [ 95185.   94746.6  94364.   94217.   94550.   95417.   94977. ]]\n",
            "\n",
            " [[ 94550.   95064.2  95417.   94977.   95438.   94939.   95765. ]\n",
            "  [ 94217.   94919.8  94550.   95417.   94977.   95438.   94939. ]\n",
            "  [ 94364.   94705.   94217.   94550.   95417.   94977.   95438. ]\n",
            "  [ 95185.   94746.6  94364.   94217.   94550.   95417.   94977. ]\n",
            "  [109938.   97650.8  95185.   94364.   94217.   94550.   95417. ]]]\n",
            "Sample data from y:\n",
            "[ 95185. 109938. 149953.]\n"
          ]
        }
      ]
    },
    {
      "cell_type": "code",
      "source": [
        "# Scale the features\n",
        "scaler = StandardScaler()\n",
        "X = scaler.fit_transform(X.reshape(-1, X.shape[-1])).reshape(X.shape)"
      ],
      "metadata": {
        "id": "ee8EbLcS-sdI"
      },
      "execution_count": 14,
      "outputs": []
    },
    {
      "cell_type": "code",
      "source": [
        "# Scale the target variable y\n",
        "y_scaler = StandardScaler()\n",
        "y = y_scaler.fit_transform(y.reshape(-1, 1)).flatten()\n",
        "\n",
        "# Check the shapes and a few samples after scaling\n",
        "print(f\"Shape of X: {X.shape}\")\n",
        "print(f\"Shape of y: {y.shape}\")\n",
        "\n",
        "print(\"Sample data from X:\")\n",
        "print(X[:3])  # Print the first 3 sequences\n",
        "\n",
        "print(\"Sample data from y:\")\n",
        "print(y[:3])  # Print the corresponding first 3 target values"
      ],
      "metadata": {
        "colab": {
          "base_uri": "https://localhost:8080/"
        },
        "id": "jyWjhwAm-xFI",
        "outputId": "3b2025b0-1d1e-4fa0-e834-40ef7389ed2b"
      },
      "execution_count": 15,
      "outputs": [
        {
          "output_type": "stream",
          "name": "stdout",
          "text": [
            "Shape of X: (210775, 5, 7)\n",
            "Shape of y: (210775,)\n",
            "Sample data from X:\n",
            "[[[0.01104314 0.06416032 0.01618835 0.01062113 0.01983926 0.04128741\n",
            "   0.08984018]\n",
            "  [0.015953   0.04774062 0.01104415 0.01618936 0.0106221  0.01984022\n",
            "   0.04128828]\n",
            "  [0.00627834 0.03895211 0.01595401 0.01104516 0.01619034 0.01062306\n",
            "   0.01984109]\n",
            "  [0.00256246 0.03372963 0.00627934 0.01595503 0.01104614 0.01619129\n",
            "   0.01062392]\n",
            "  [0.0042028  0.02596102 0.00256347 0.00628036 0.015956   0.01104709\n",
            "   0.01619216]]\n",
            "\n",
            " [[0.015953   0.04774062 0.01104415 0.01618936 0.0106221  0.01984022\n",
            "   0.04128828]\n",
            "  [0.00627834 0.03895211 0.01595401 0.01104516 0.01619034 0.01062306\n",
            "   0.01984109]\n",
            "  [0.00256246 0.03372963 0.00627934 0.01595503 0.01104614 0.01619129\n",
            "   0.01062392]\n",
            "  [0.0042028  0.02596102 0.00256347 0.00628036 0.015956   0.01104709\n",
            "   0.01619216]\n",
            "  [0.01336417 0.02746556 0.00420381 0.00256448 0.00628134 0.01595696\n",
            "   0.01104796]]\n",
            "\n",
            " [[0.00627834 0.03895211 0.01595401 0.01104516 0.01619034 0.01062306\n",
            "   0.01984109]\n",
            "  [0.00256246 0.03372963 0.00627934 0.01595503 0.01104614 0.01619129\n",
            "   0.01062392]\n",
            "  [0.0042028  0.02596102 0.00256347 0.00628036 0.015956   0.01104709\n",
            "   0.01619216]\n",
            "  [0.01336417 0.02746556 0.00420381 0.00256448 0.00628134 0.01595696\n",
            "   0.01104796]\n",
            "  [0.1779897  0.13250096 0.01336517 0.00420482 0.00256546 0.00628229\n",
            "   0.01595783]]]\n",
            "Sample data from y:\n",
            "[0.01336121 0.17798669 0.62450528]\n"
          ]
        }
      ]
    },
    {
      "cell_type": "code",
      "source": [
        "print(\"CUDA available:\", \"yes\" if torch.cuda.is_available() else \"no\")"
      ],
      "metadata": {
        "id": "XBN4-pZ2gzDe",
        "outputId": "7e1cffcd-17f2-453e-e726-ee0705ac5f4b",
        "colab": {
          "base_uri": "https://localhost:8080/"
        }
      },
      "execution_count": 16,
      "outputs": [
        {
          "output_type": "stream",
          "name": "stdout",
          "text": [
            "CUDA available: yes\n"
          ]
        }
      ]
    },
    {
      "cell_type": "code",
      "source": [
        "'''\n",
        "\n",
        "\n",
        "\n",
        "# Convert data to PyTorch tensors\n",
        "device = torch.device(\"cuda\" if torch.cuda.is_available() else \"cpu\")\n",
        "X = torch.tensor(X, dtype=torch.float32).to(device)\n",
        "y = torch.tensor(y, dtype=torch.float32).to(device)\n",
        "y = y.view(-1, 1)\n",
        "\n",
        "# Split data into train and test sets\n",
        "split = int(0.8 * len(X))\n",
        "X_train, X_test = X[:split], X[split:]\n",
        "y_train, y_test = y[:split], y[split:]\n",
        "\n",
        "# Define the LSTM model\n",
        "class LSTMModel(nn.Module):\n",
        "    def __init__(self, input_size, hidden_size, num_layers, output_size):\n",
        "        super(LSTMModel, self).__init__()\n",
        "        self.hidden_size = hidden_size\n",
        "        self.num_layers = num_layers\n",
        "        self.lstm = nn.LSTM(input_size, hidden_size, num_layers, batch_first=True)\n",
        "        self.fc = nn.Linear(hidden_size, output_size)\n",
        "\n",
        "    def forward(self, x):\n",
        "        h0 = torch.zeros(self.num_layers, x.size(0), self.hidden_size).to(device)\n",
        "        c0 = torch.zeros(self.num_layers, x.size(0), self.hidden_size).to(device)\n",
        "        out, _ = self.lstm(x, (h0, c0))\n",
        "        out = self.fc(out[:, -1, :])\n",
        "        return out\n",
        "\n",
        "input_size = X_train.shape[2]\n",
        "hidden_size = 50\n",
        "num_layers = 1\n",
        "output_size = 1\n",
        "\n",
        "model = LSTMModel(input_size, hidden_size, num_layers, output_size).to(device)\n",
        "\n",
        "# Define loss and optimizer\n",
        "criterion = nn.MSELoss()\n",
        "optimizer = optim.Adam(model.parameters(), lr=0.001)\n",
        "\n",
        "# Train the model\n",
        "num_epochs = 50\n",
        "batch_size = 75\n",
        "\n",
        "train_dataset = torch.utils.data.TensorDataset(X_train, y_train)\n",
        "train_loader = torch.utils.data.DataLoader(train_dataset, batch_size=batch_size, shuffle=True)\n",
        "\n",
        "# Lists to track loss\n",
        "train_losses = []\n",
        "val_losses = []\n",
        "\n",
        "for epoch in range(num_epochs):\n",
        "    model.train()\n",
        "    epoch_train_loss = 0\n",
        "    for batch_X, batch_y in train_loader:\n",
        "        optimizer.zero_grad()\n",
        "        outputs = model(batch_X)\n",
        "        loss = criterion(outputs, batch_y)\n",
        "        loss.backward()\n",
        "        optimizer.step()\n",
        "        epoch_train_loss += loss.item()\n",
        "\n",
        "    epoch_train_loss /= len(train_loader)\n",
        "    train_losses.append(epoch_train_loss)\n",
        "\n",
        "    model.eval()\n",
        "    with torch.no_grad():\n",
        "        val_outputs = model(X_test)\n",
        "        val_loss = criterion(val_outputs, y_test)\n",
        "    val_losses.append(val_loss.item())\n",
        "\n",
        "    print(f\"Epoch {epoch+1}/{num_epochs}, Train Loss: {epoch_train_loss:.4f}, Val Loss: {val_loss.item():.4f}\")\n",
        "\n",
        "# Plot training and validation loss\n",
        "plt.figure(figsize=(10, 6))\n",
        "plt.plot(range(1, num_epochs + 1), train_losses, label='Train Loss')\n",
        "plt.plot(range(1, num_epochs + 1), val_losses, label='Validation Loss')\n",
        "plt.xlabel('Epochs')\n",
        "plt.ylabel('Loss')\n",
        "plt.title('Training and Validation Loss over Epochs')\n",
        "plt.legend()\n",
        "plt.show()\n",
        "'''\n"
      ],
      "metadata": {
        "colab": {
          "base_uri": "https://localhost:8080/",
          "height": 1000
        },
        "id": "xbzJnuhxf75h",
        "outputId": "12fe578e-0483-43e8-a40c-afa02a40cf9a"
      },
      "execution_count": 17,
      "outputs": [
        {
          "output_type": "stream",
          "name": "stdout",
          "text": [
            "Epoch 1/50, Train Loss: 0.6553, Val Loss: 0.7678\n",
            "Epoch 2/50, Train Loss: 0.5515, Val Loss: 0.7167\n",
            "Epoch 3/50, Train Loss: 0.5412, Val Loss: 0.7086\n",
            "Epoch 4/50, Train Loss: 0.5345, Val Loss: 0.6807\n",
            "Epoch 5/50, Train Loss: 0.5294, Val Loss: 0.6707\n",
            "Epoch 6/50, Train Loss: 0.5230, Val Loss: 0.6672\n",
            "Epoch 7/50, Train Loss: 0.5187, Val Loss: 0.6999\n",
            "Epoch 8/50, Train Loss: 0.5180, Val Loss: 0.7197\n",
            "Epoch 9/50, Train Loss: 0.5148, Val Loss: 0.6951\n",
            "Epoch 10/50, Train Loss: 0.5105, Val Loss: 0.6955\n",
            "Epoch 11/50, Train Loss: 0.5121, Val Loss: 0.6623\n",
            "Epoch 12/50, Train Loss: 0.5088, Val Loss: 0.6925\n",
            "Epoch 13/50, Train Loss: 0.5042, Val Loss: 0.7001\n",
            "Epoch 14/50, Train Loss: 0.5013, Val Loss: 0.6801\n",
            "Epoch 15/50, Train Loss: 0.4949, Val Loss: 0.6852\n",
            "Epoch 16/50, Train Loss: 0.4879, Val Loss: 0.6753\n",
            "Epoch 17/50, Train Loss: 0.4865, Val Loss: 0.6814\n",
            "Epoch 18/50, Train Loss: 0.4774, Val Loss: 0.6907\n",
            "Epoch 19/50, Train Loss: 0.4718, Val Loss: 0.6629\n",
            "Epoch 20/50, Train Loss: 0.4677, Val Loss: 0.6672\n",
            "Epoch 21/50, Train Loss: 0.4635, Val Loss: 0.6784\n",
            "Epoch 22/50, Train Loss: 0.4575, Val Loss: 0.6837\n",
            "Epoch 23/50, Train Loss: 0.4523, Val Loss: 0.6852\n",
            "Epoch 24/50, Train Loss: 0.4493, Val Loss: 0.6795\n",
            "Epoch 25/50, Train Loss: 0.4428, Val Loss: 0.6520\n",
            "Epoch 26/50, Train Loss: 0.4389, Val Loss: 0.6861\n",
            "Epoch 27/50, Train Loss: 0.4374, Val Loss: 0.6745\n",
            "Epoch 28/50, Train Loss: 0.4328, Val Loss: 0.7082\n",
            "Epoch 29/50, Train Loss: 0.4254, Val Loss: 0.7149\n",
            "Epoch 30/50, Train Loss: 0.4248, Val Loss: 0.7426\n",
            "Epoch 31/50, Train Loss: 0.4206, Val Loss: 0.6842\n",
            "Epoch 32/50, Train Loss: 0.4141, Val Loss: 0.7039\n",
            "Epoch 33/50, Train Loss: 0.4132, Val Loss: 0.6861\n",
            "Epoch 34/50, Train Loss: 0.4064, Val Loss: 0.6884\n",
            "Epoch 35/50, Train Loss: 0.4059, Val Loss: 0.7413\n",
            "Epoch 36/50, Train Loss: 0.4016, Val Loss: 0.7396\n",
            "Epoch 37/50, Train Loss: 0.4005, Val Loss: 0.7330\n",
            "Epoch 38/50, Train Loss: 0.3967, Val Loss: 0.7068\n",
            "Epoch 39/50, Train Loss: 0.3958, Val Loss: 0.7516\n",
            "Epoch 40/50, Train Loss: 0.3885, Val Loss: 0.7619\n",
            "Epoch 41/50, Train Loss: 0.3923, Val Loss: 0.6882\n",
            "Epoch 42/50, Train Loss: 0.3886, Val Loss: 0.7057\n",
            "Epoch 43/50, Train Loss: 0.3903, Val Loss: 0.7299\n",
            "Epoch 44/50, Train Loss: 0.3885, Val Loss: 0.7454\n",
            "Epoch 45/50, Train Loss: 0.3799, Val Loss: 0.7442\n",
            "Epoch 46/50, Train Loss: 0.3775, Val Loss: 0.6710\n",
            "Epoch 47/50, Train Loss: 0.3844, Val Loss: 0.6927\n",
            "Epoch 48/50, Train Loss: 0.3780, Val Loss: 0.7161\n",
            "Epoch 49/50, Train Loss: 0.3784, Val Loss: 0.7148\n",
            "Epoch 50/50, Train Loss: 0.3753, Val Loss: 0.7430\n"
          ]
        },
        {
          "output_type": "display_data",
          "data": {
            "text/plain": [
              "<Figure size 1000x600 with 1 Axes>"
            ],
            "image/png": "[encoded data removed]"
          },
          "metadata": {}
        }
      ]
    },
    {
      "cell_type": "code",
      "source": [
        "# Example: Filter data for a specific race and driver\n",
        "selected_race_id = 1069  # Replace with the actual raceId\n",
        "selected_driver_id = 20  # Replace with the actual driverId\n",
        "\n",
        "# Get the filtered data\n",
        "filtered_data = filter_race_driver_data(lap_times, selected_race_id, selected_driver_id)\n",
        "\n",
        "# Sort data by lap number\n",
        "filtered_data = filtered_data.sort_values(by='lap')\n",
        "\n",
        "# Display the filtered and sorted data\n",
        "print(filtered_data.head())"
      ],
      "metadata": {
        "colab": {
          "base_uri": "https://localhost:8080/"
        },
        "id": "33N_FfLhimgp",
        "outputId": "fa75e956-25c1-465b-f2b4-d306f5e80039"
      },
      "execution_count": 18,
      "outputs": [
        {
          "output_type": "stream",
          "name": "stdout",
          "text": [
            "   raceId  driverId  lap  position      time  milliseconds\n",
            "1    1069        20    1        15  1:52.788        112788\n",
            "2    1069        20    2        15  1:46.841        106841\n",
            "3    1069        20    3        15  1:46.358        106358\n",
            "4    1069        20    4        14  1:44.512        104512\n",
            "5    1069        20    5        14  1:44.105        104105\n"
          ]
        }
      ]
    },
    {
      "cell_type": "code",
      "source": [
        "# Create lag features for previous lap times\n",
        "def create_lag_features(df, lag=5):\n",
        "    for i in range(1, lag + 1):\n",
        "        df[f'lag_{i}'] = df['milliseconds'].shift(i)\n",
        "    return df.dropna()\n",
        "\n",
        "# Apply feature engineering\n",
        "filtered_data = create_lag_features(filtered_data)\n",
        "# Drop the 'time' column from the filtered data\n",
        "filtered_data = filtered_data.drop(columns=['time'])\n",
        "\n",
        "# Display the data with lag features\n",
        "print(filtered_data.head())"
      ],
      "metadata": {
        "colab": {
          "base_uri": "https://localhost:8080/"
        },
        "id": "DtqBG2sogCXU",
        "outputId": "4c2d452d-5cb8-40d7-fe2c-72ef76c96414"
      },
      "execution_count": 19,
      "outputs": [
        {
          "output_type": "stream",
          "name": "stdout",
          "text": [
            "    raceId  driverId  lap  position  milliseconds     lag_1     lag_2  \\\n",
            "6     1069        20    6        14        104481  104105.0  104512.0   \n",
            "7     1069        20    7        14        104703  104481.0  104105.0   \n",
            "8     1069        20    8        14        104456  104703.0  104481.0   \n",
            "9     1069        20    9        12        103263  104456.0  104703.0   \n",
            "10    1069        20   10        11        104342  103263.0  104456.0   \n",
            "\n",
            "       lag_3     lag_4     lag_5  \n",
            "6   106358.0  106841.0  112788.0  \n",
            "7   104512.0  106358.0  106841.0  \n",
            "8   104105.0  104512.0  106358.0  \n",
            "9   104481.0  104105.0  104512.0  \n",
            "10  104703.0  104481.0  104105.0  \n"
          ]
        }
      ]
    },
    {
      "cell_type": "code",
      "source": [
        "'''\n",
        "# Select a specific race event\n",
        "selected_race = 'Australian Grand Prix'\n",
        "selected_race_id = races[races['name'] == selected_race]['raceId'].compute().values[0]\n",
        "\n",
        "# Select a specific driver\n",
        "selected_driver_id = 1\n",
        "\n",
        "# Filter data for the selected race and driver\n",
        "lap_times_filtered = lap_times[(lap_times['raceId'] == selected_race_id) & (lap_times['driverId'] == selected_driver_id)]\n",
        "results_filtered = results[(results['raceId'] == selected_race_id) & (results['driverId'] == selected_driver_id)]\n",
        "pit_stops_filtered = pit_stops[(pit_stops['raceId'] == selected_race_id) & (pit_stops['driverId'] == selected_driver_id)]\n",
        "qualifying_filtered = qualifying[(qualifying['raceId'] == selected_race_id) & (qualifying['driverId'] == selected_driver_id)]\n",
        "\n",
        "def convert_time_to_seconds(time_str):\n",
        "    try:\n",
        "        minutes, seconds_ms = time_str.split(':')\n",
        "        seconds, milliseconds = seconds_ms.split('.')\n",
        "        total_seconds = int(minutes) * 60 + int(seconds) + int(milliseconds) * 0.1\n",
        "        return total_seconds\n",
        "    except ValueError:\n",
        "        return pd.NaT\n",
        "\n",
        "# Clean and preprocess the data\n",
        "lap_times_filtered['lapTime'] = lap_times_filtered['time'].astype(str).apply(convert_time_to_seconds)\n",
        "results_filtered['fastestLapTime'] = results_filtered['fastestLapTime'].astype(str).apply(convert_time_to_seconds)\n",
        "pit_stops_filtered['duration'] = pit_stops_filtered['milliseconds'] / 1000\n",
        "\n",
        "# Join the filtered datasets\n",
        "final_data = dd.merge(lap_times_filtered, results_filtered[['grid', 'fastestLapTime']], on=['raceId', 'driverId'], how='left')\n",
        "final_data = dd.merge(final_data, pit_stops_filtered[['lap', 'duration']], on=['raceId', 'driverId', 'lap'], how='left')\n",
        "final_data = dd.merge(final_data, qualifying_filtered[['q1', 'q2', 'q3']], on=['raceId', 'driverId'], how='left')\n",
        "\n",
        "# Compute the final dataset\n",
        "final_data = final_data.compute()\n",
        "\n",
        "# Print the final dataset\n",
        "print(final_data)\n",
        "'''"
      ],
      "metadata": {
        "id": "JO8mKa8VCGEA"
      },
      "execution_count": null,
      "outputs": []
    }
  ]
}